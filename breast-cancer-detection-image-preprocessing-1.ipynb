{
 "cells": [
  {
   "cell_type": "code",
   "execution_count": 1,
   "metadata": {},
   "outputs": [
    {
     "name": "stdout",
     "output_type": "stream",
     "text": [
      "Collecting kaggle\n",
      "  Downloading https://files.pythonhosted.org/packages/62/ab/bb20f9b9e24f9a6250f95a432f8d9a7d745f8d24039d7a5a6eaadb7783ba/kaggle-1.5.6.tar.gz (58kB)\n",
      "Requirement already satisfied: urllib3<1.25,>=1.21.1 in /home/ec2-user/anaconda3/envs/mxnet_p36/lib/python3.6/site-packages (from kaggle) (1.23)\n",
      "Requirement already satisfied: six>=1.10 in /home/ec2-user/anaconda3/envs/mxnet_p36/lib/python3.6/site-packages (from kaggle) (1.11.0)\n",
      "Requirement already satisfied: certifi in /home/ec2-user/anaconda3/envs/mxnet_p36/lib/python3.6/site-packages (from kaggle) (2019.11.28)\n",
      "Requirement already satisfied: python-dateutil in /home/ec2-user/anaconda3/envs/mxnet_p36/lib/python3.6/site-packages (from kaggle) (2.7.3)\n",
      "Requirement already satisfied: requests in /home/ec2-user/anaconda3/envs/mxnet_p36/lib/python3.6/site-packages (from kaggle) (2.20.0)\n",
      "Collecting tqdm (from kaggle)\n",
      "  Downloading https://files.pythonhosted.org/packages/4a/1c/6359be64e8301b84160f6f6f7936bbfaaa5e9a4eab6cbc681db07600b949/tqdm-4.45.0-py2.py3-none-any.whl (60kB)\n",
      "Collecting python-slugify (from kaggle)\n",
      "  Downloading https://files.pythonhosted.org/packages/92/5f/7b84a0bba8a0fdd50c046f8b57dcf179dc16237ad33446079b7c484de04c/python-slugify-4.0.0.tar.gz\n",
      "Requirement already satisfied: chardet<3.1.0,>=3.0.2 in /home/ec2-user/anaconda3/envs/mxnet_p36/lib/python3.6/site-packages (from requests->kaggle) (3.0.4)\n",
      "Requirement already satisfied: idna<2.8,>=2.5 in /home/ec2-user/anaconda3/envs/mxnet_p36/lib/python3.6/site-packages (from requests->kaggle) (2.6)\n",
      "Collecting text-unidecode>=1.3 (from python-slugify->kaggle)\n",
      "  Downloading https://files.pythonhosted.org/packages/a6/a5/c0b6468d3824fe3fde30dbb5e1f687b291608f9473681bbf7dabbf5a87d7/text_unidecode-1.3-py2.py3-none-any.whl (78kB)\n",
      "Building wheels for collected packages: kaggle, python-slugify\n",
      "  Running setup.py bdist_wheel for kaggle: started\n",
      "  Running setup.py bdist_wheel for kaggle: finished with status 'done'\n",
      "  Stored in directory: /home/ec2-user/.cache/pip/wheels/57/4e/e8/bb28d035162fb8f17f8ca5d42c3230e284c6aa565b42b72674\n",
      "  Running setup.py bdist_wheel for python-slugify: started\n",
      "  Running setup.py bdist_wheel for python-slugify: finished with status 'done'\n",
      "  Stored in directory: /home/ec2-user/.cache/pip/wheels/11/94/81/312969455540cb0e6a773e5d68a73c14128bfdfd4a7969bb4f\n",
      "Successfully built kaggle python-slugify\n",
      "Installing collected packages: tqdm, text-unidecode, python-slugify, kaggle\n",
      "Successfully installed kaggle-1.5.6 python-slugify-4.0.0 text-unidecode-1.3 tqdm-4.45.0\n"
     ]
    },
    {
     "name": "stderr",
     "output_type": "stream",
     "text": [
      "You are using pip version 10.0.1, however version 20.0.2 is available.\n",
      "You should consider upgrading via the 'pip install --upgrade pip' command.\n"
     ]
    }
   ],
   "source": [
    "%%bash\n",
    "pip install kaggle"
   ]
  },
  {
   "cell_type": "code",
   "execution_count": 22,
   "metadata": {},
   "outputs": [],
   "source": [
    "%%bash \n",
    "mkdir /home/ec2-user/.kaggle/\n",
    "mv /home/ec2-user/SageMaker/kaggle.json /home/ec2-user/.kaggle/\n",
    "chmod 600 /home/ec2-user/.kaggle/kaggle.json"
   ]
  },
  {
   "cell_type": "code",
   "execution_count": 23,
   "metadata": {},
   "outputs": [
    {
     "name": "stderr",
     "output_type": "stream",
     "text": [
      "Traceback (most recent call last):\n",
      "  File \"/home/ec2-user/anaconda3/envs/mxnet_p36/bin/kaggle\", line 11, in <module>\n",
      "    sys.exit(main())\n",
      "  File \"/home/ec2-user/anaconda3/envs/mxnet_p36/lib/python3.6/site-packages/kaggle/cli.py\", line 51, in main\n",
      "    out = args.func(**command_args)\n",
      "  File \"/home/ec2-user/anaconda3/envs/mxnet_p36/lib/python3.6/site-packages/kaggle/api/kaggle_api_extended.py\", line 940, in dataset_list_cli\n",
      "    max_size, min_size)\n",
      "  File \"/home/ec2-user/anaconda3/envs/mxnet_p36/lib/python3.6/site-packages/kaggle/api/kaggle_api_extended.py\", line 905, in dataset_list\n",
      "    return [Dataset(d) for d in datasets_list_result]\n",
      "  File \"/home/ec2-user/anaconda3/envs/mxnet_p36/lib/python3.6/site-packages/kaggle/api/kaggle_api_extended.py\", line 905, in <listcomp>\n",
      "    return [Dataset(d) for d in datasets_list_result]\n",
      "  File \"/home/ec2-user/anaconda3/envs/mxnet_p36/lib/python3.6/site-packages/kaggle/models/kaggle_models_extended.py\", line 67, in __init__\n",
      "    self.size = File.get_size(self.totalBytes)\n",
      "  File \"/home/ec2-user/anaconda3/envs/mxnet_p36/lib/python3.6/site-packages/kaggle/models/kaggle_models_extended.py\", line 107, in get_size\n",
      "    while size >= 1024 and suffix_index < 4:\n",
      "TypeError: '>=' not supported between instances of 'NoneType' and 'int'\n"
     ]
    }
   ],
   "source": [
    "%%bash\n",
    "\n",
    "kaggle datasets list --user paultimothymooney"
   ]
  },
  {
   "cell_type": "code",
   "execution_count": 26,
   "metadata": {},
   "outputs": [
    {
     "name": "stdout",
     "output_type": "stream",
     "text": [
      "breast-cancer-detection-image-preprocessing.ipynb  lost+found\r\n",
      "breast-histopathology-images.zip\r\n"
     ]
    }
   ],
   "source": [
    "!ls"
   ]
  },
  {
   "cell_type": "code",
   "execution_count": 24,
   "metadata": {},
   "outputs": [
    {
     "name": "stdout",
     "output_type": "stream",
     "text": [
      "ref                                                            title                                                size  lastUpdated          downloadCount  voteCount  usabilityRating  \r\n",
      "-------------------------------------------------------------  --------------------------------------------------  -----  -------------------  -------------  ---------  ---------------  \r\n",
      "allen-institute-for-ai/CORD-19-research-challenge              COVID-19 Open Research Dataset Challenge (CORD-19)  729MB  2020-03-27 23:46:53          39787       4656  0.88235295       \r\n",
      "ryanxjhan/cbc-news-coronavirus-articles-march-26               CBC News Coronavirus/COVID-19 Articles (NLP)          6MB  2020-03-27 23:23:07            122         21  1.0              \r\n",
      "danevans/world-bank-wdi-212-health-systems                     World Bank WDI 2.12 - Health Systems                  6KB  2020-03-29 19:00:14            171         10  1.0              \r\n",
      "vitaliymalcev/russian-passenger-air-service-20072020           Russian passenger air service 2007-2020             114KB  2020-03-29 17:15:24             83          9  1.0              \r\n",
      "sobhanmoosavi/us-accidents                                     US Accidents (3.0 million records)                  199MB  2020-01-17 04:45:09          12019        603  1.0              \r\n",
      "fireballbyedimyrnmom/us-counties-covid-19-dataset              US counties COVID 19 dataset                        186KB  2020-04-02 11:18:40            345         23  0.9411765        \r\n",
      "eswarchandt/amazon-music-reviews                               Amazon Musicual Instruments Reviews                   5MB  2020-03-29 02:59:52             70         13  1.0              \r\n",
      "trtmio/project-coviewed-subreddit-coronavirus-news-corpus      Project COVIEWED Coronavirus News Corpus              8MB  2020-03-31 11:32:45             16          5  0.9117647        \r\n",
      "monogenea/birdsongs-from-europe                                Bird songs from Europe (xeno-canto)                   7GB  2020-03-23 15:35:20             21          5  0.88235295       \r\n",
      "dheerajmpai/hospitals-and-beds-in-india                        Hospitals and beds in India (Statewise)               5KB  2020-03-27 14:05:50            127         11  0.88235295       \r\n",
      "lakritidis/identifying-influential-bloggers-techcrunch         Identifying Influential Bloggers: Techcrunch        112MB  2020-03-30 19:22:09             23          5  1.0              \r\n",
      "bappekim/air-pollution-in-seoul                                Air Pollution in Seoul                               20MB  2020-03-29 07:42:23            100         14  1.0              \r\n",
      "roche-data-science-coalition/uncover                           UNCOVER Challenge                                   154MB  2020-04-01 15:17:39             11         10  0.8235294        \r\n",
      "sudalairajkumar/novel-corona-virus-2019-dataset                Novel Corona Virus 2019 Dataset                     652KB  2020-04-02 03:26:16         101566       3467  0.9705882        \r\n",
      "kimjihoo/coronavirusdataset                                    Data Science for COVID-19 (DS4C)                      3MB  2020-03-30 19:54:12          24195        890  1.0              \r\n",
      "unanimad/dataisbeautiful                                       Reddit - Data is Beautiful                           11MB  2020-04-01 12:10:09           1428        140  1.0              \r\n",
      "jessemostipak/hotel-booking-demand                             Hotel booking demand                                  1MB  2020-02-13 01:27:20          12119        494  1.0              \r\n",
      "rubenssjr/brasilian-houses-to-rent                             brazilian_houses_to_rent                            282KB  2020-03-25 22:51:17           1512         76  1.0              \r\n",
      "clmentbisaillon/fake-and-real-news-dataset                     Fake and real news dataset                           41MB  2020-03-26 18:51:15            553         35  1.0              \r\n",
      "paultimothymooney/covid19-containment-and-mitigation-measures  COVID-19 containment and mitigation measures        216KB  2020-04-01 21:06:55           1174         73  0.8235294        \r\n"
     ]
    }
   ],
   "source": [
    "!kaggle datasets list"
   ]
  },
  {
   "cell_type": "code",
   "execution_count": 25,
   "metadata": {},
   "outputs": [
    {
     "name": "stdout",
     "output_type": "stream",
     "text": [
      "Downloading breast-histopathology-images.zip to /home/ec2-user/SageMaker\n",
      "100%|█████████████████████████████████████▊| 3.09G/3.10G [01:20<00:00, 51.6MB/s]\n",
      "100%|██████████████████████████████████████| 3.10G/3.10G [01:20<00:00, 41.3MB/s]\n"
     ]
    }
   ],
   "source": [
    "!kaggle datasets download -d paultimothymooney/breast-histopathology-images"
   ]
  },
  {
   "cell_type": "code",
   "execution_count": 27,
   "metadata": {},
   "outputs": [
    {
     "name": "stdout",
     "output_type": "stream",
     "text": [
      "breast-cancer-detection-image-preprocessing.ipynb  lost+found\r\n",
      "breast-histopathology-images.zip\r\n"
     ]
    }
   ],
   "source": [
    "!ls"
   ]
  },
  {
   "cell_type": "code",
   "execution_count": null,
   "metadata": {},
   "outputs": [],
   "source": []
  }
 ],
 "metadata": {
  "kernelspec": {
   "display_name": "conda_mxnet_p36",
   "language": "python",
   "name": "conda_mxnet_p36"
  },
  "language_info": {
   "codemirror_mode": {
    "name": "ipython",
    "version": 3
   },
   "file_extension": ".py",
   "mimetype": "text/x-python",
   "name": "python",
   "nbconvert_exporter": "python",
   "pygments_lexer": "ipython3",
   "version": "3.6.5"
  }
 },
 "nbformat": 4,
 "nbformat_minor": 4
}
