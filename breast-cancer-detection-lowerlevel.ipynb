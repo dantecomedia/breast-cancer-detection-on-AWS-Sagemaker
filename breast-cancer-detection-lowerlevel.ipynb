{
 "cells": [
  {
   "cell_type": "code",
   "execution_count": 1,
   "metadata": {},
   "outputs": [],
   "source": [
    "import time\n",
    "import boto3\n",
    "from sagemaker import get_execution_role\n",
    "from sagemaker.amazon.amazon_estimator import get_image_uri"
   ]
  },
  {
   "cell_type": "code",
   "execution_count": 2,
   "metadata": {},
   "outputs": [],
   "source": [
    "num_classes=2\n",
    "\n",
    "num_training_samples=194266\n",
    "\n",
    "num_layers=18\n",
    "\n",
    "mini_batch_size=128\n",
    "\n",
    "image_shape= '3,50,50'\n",
    "\n",
    "augmentation_type = 'crop_color_transform'\n",
    "\n",
    "epochs=5\n",
    "\n",
    "learning_rate=0.01\n",
    "\n",
    "use_pretrained_model=1\n",
    "\n"
   ]
  },
  {
   "cell_type": "code",
   "execution_count": 3,
   "metadata": {},
   "outputs": [],
   "source": [
    "job_name_prefix='breast-cancer-detection'\n",
    "timestamp=time.strftime('-%Y-%m-%d-%H-%M-%S', time.gmtime())\n",
    "job_name=job_name_prefix+timestamp"
   ]
  },
  {
   "cell_type": "code",
   "execution_count": 4,
   "metadata": {},
   "outputs": [],
   "source": [
    "bucket='sagemaker-data-iamrahulinc'\n",
    "input_prefix='breast-cancer-detection/input/recordio'\n",
    "input_train='s3://{}/{}/train'.format(bucket,input_prefix)\n",
    "input_test='s3://{}/{}/test'.format(bucket,input_prefix)"
   ]
  },
  {
   "cell_type": "code",
   "execution_count": 5,
   "metadata": {},
   "outputs": [],
   "source": [
    "output_prefix='breast-cancer-detection/output'\n",
    "output_path='s3://{}/{}/'.format(bucket,output_prefix)\n"
   ]
  },
  {
   "cell_type": "code",
   "execution_count": 6,
   "metadata": {},
   "outputs": [],
   "source": [
    "instance_count=1\n",
    "instance_type='ml.m4.xlarge'\n",
    "volume_size_gb=50"
   ]
  },
  {
   "cell_type": "code",
   "execution_count": 8,
   "metadata": {},
   "outputs": [],
   "source": [
    "role=get_execution_role()\n",
    "training_image=get_image_uri(boto3.Session().region_name,'image-classification')"
   ]
  },
  {
   "cell_type": "code",
   "execution_count": 9,
   "metadata": {},
   "outputs": [],
   "source": [
    "train_timeout=360000"
   ]
  },
  {
   "cell_type": "code",
   "execution_count": 11,
   "metadata": {},
   "outputs": [
    {
     "name": "stdout",
     "output_type": "stream",
     "text": [
      "Training job name: breast-cancer-detection-2020-04-03-05-58-14\n",
      "\n",
      "Input Data Location: {'S3DataType': 'S3Prefix', 'S3Uri': 's3://sagemaker-data-iamrahulinc/breast-cancer-detection/input/recordio/test', 'S3DataDistributionType': 'FullyReplicated'}\n"
     ]
    }
   ],
   "source": [
    "training_params = {\n",
    "    \"TrainingJobName\": job_name,\n",
    "    # specify the training docker image\n",
    "    \"AlgorithmSpecification\": {\n",
    "        \"TrainingImage\": training_image,\n",
    "        \"TrainingInputMode\": \"Pipe\"\n",
    "    },\n",
    "    \"RoleArn\": role,\n",
    "    \"OutputDataConfig\": {\n",
    "        \"S3OutputPath\": output_path\n",
    "    },\n",
    "    \"ResourceConfig\": {\n",
    "        \"InstanceCount\": instance_count,\n",
    "        \"InstanceType\": instance_type,\n",
    "        \"VolumeSizeInGB\": volume_size_gb\n",
    "    },\n",
    "    \"HyperParameters\": {\n",
    "        #\"image_shape\": image_shape,\n",
    "        \"num_layers\": str(num_layers),\n",
    "        \"num_training_samples\": str(num_training_samples),\n",
    "        \"num_classes\": str(num_classes),\n",
    "        \"mini_batch_size\": str(mini_batch_size),\n",
    "        \"epochs\": str(epochs),\n",
    "        \"learning_rate\": str(learning_rate),\n",
    "        #\"lr_scheduler_step\": str(lr_scheduler_step),\n",
    "        #\"lr_scheduler_factor\": str(lr_scheduler_factor),\n",
    "        #\"augmentation_type\": str(augmentation_type),\n",
    "        #\"checkpoint_frequency\": str(checkpoint_frequency),\n",
    "        \"augmentation_type\" : str(augmentation_type)\n",
    "    },\n",
    "    \"StoppingCondition\": {\n",
    "        \"MaxRuntimeInSeconds\": train_timeout\n",
    "    },\n",
    "#Training data should be inside a subdirectory called \"train\"\n",
    "#Validation data should be inside a subdirectory called \"validation\"\n",
    "#The algorithm currently only supports fullyreplicated model (where data is copied onto each machine)\n",
    "    \"InputDataConfig\": [\n",
    "        {\n",
    "            \"ChannelName\": \"train\",\n",
    "            \"DataSource\": {\n",
    "                \"S3DataSource\": {\n",
    "                    \"S3DataType\": \"S3Prefix\",\n",
    "                    \"S3Uri\": input_test,\n",
    "                    \"S3DataDistributionType\": \"FullyReplicated\"\n",
    "                }\n",
    "            },\n",
    "            \"ContentType\": \"application/x-recordio\",\n",
    "            \"CompressionType\": \"None\"\n",
    "        },\n",
    "        {\n",
    "            \"ChannelName\": \"validation\",\n",
    "            \"DataSource\": {\n",
    "                \"S3DataSource\": {\n",
    "                    \"S3DataType\": \"S3Prefix\",\n",
    "                    \"S3Uri\": 's3://{}/validation/'.format(bucket),\n",
    "                    \"S3DataDistributionType\": \"FullyReplicated\"\n",
    "                }\n",
    "            },\n",
    "            \"ContentType\": \"application/x-recordio\",\n",
    "            \"CompressionType\": \"None\"\n",
    "        }\n",
    "    ]\n",
    "}\n",
    "print('Training job name: {}'.format(job_name))\n",
    "print('\\nInput Data Location: {}'.format(training_params['InputDataConfig'][0]['DataSource']['S3DataSource']))"
   ]
  },
  {
   "cell_type": "code",
   "execution_count": null,
   "metadata": {},
   "outputs": [],
   "source": []
  }
 ],
 "metadata": {
  "kernelspec": {
   "display_name": "conda_mxnet_p36",
   "language": "python",
   "name": "conda_mxnet_p36"
  },
  "language_info": {
   "codemirror_mode": {
    "name": "ipython",
    "version": 3
   },
   "file_extension": ".py",
   "mimetype": "text/x-python",
   "name": "python",
   "nbconvert_exporter": "python",
   "pygments_lexer": "ipython3",
   "version": "3.6.5"
  }
 },
 "nbformat": 4,
 "nbformat_minor": 4
}
