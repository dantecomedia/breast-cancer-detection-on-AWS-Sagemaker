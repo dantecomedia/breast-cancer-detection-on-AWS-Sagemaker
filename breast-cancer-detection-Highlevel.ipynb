{
 "cells": [
  {
   "cell_type": "code",
   "execution_count": 12,
   "metadata": {},
   "outputs": [],
   "source": [
    "import time\n",
    "import boto3\n",
    "from sagemaker import get_execution_role\n",
    "from sagemaker.amazon.amazon_estimator import get_image_uri\n",
    "import sagemaker"
   ]
  },
  {
   "cell_type": "code",
   "execution_count": 2,
   "metadata": {},
   "outputs": [],
   "source": [
    "num_classes=2\n",
    "\n",
    "num_training_samples=194266\n",
    "\n",
    "num_layers=18\n",
    "\n",
    "mini_batch_size=128\n",
    "\n",
    "image_shape= '3,50,50'\n",
    "\n",
    "augmentation_type = 'crop_color_transform'\n",
    "\n",
    "epochs=5\n",
    "\n",
    "learning_rate=0.01\n",
    "\n",
    "use_pretrained_model=1\n",
    "\n"
   ]
  },
  {
   "cell_type": "code",
   "execution_count": 3,
   "metadata": {},
   "outputs": [],
   "source": [
    "job_name_prefix='breast-cancer-detection'\n",
    "timestamp=time.strftime('-%Y-%m-%d-%H-%M-%S', time.gmtime())\n",
    "job_name=job_name_prefix+timestamp"
   ]
  },
  {
   "cell_type": "code",
   "execution_count": 4,
   "metadata": {},
   "outputs": [],
   "source": [
    "bucket='sagemaker-data-iamrahulinc'\n",
    "input_prefix='breast-cancer-detection/input/recordio'\n",
    "input_train='s3://{}/{}/train'.format(bucket,input_prefix)\n",
    "input_test='s3://{}/{}/test'.format(bucket,input_prefix)"
   ]
  },
  {
   "cell_type": "code",
   "execution_count": 5,
   "metadata": {},
   "outputs": [],
   "source": [
    "output_prefix='breast-cancer-detection/output'\n",
    "output_path='s3://{}/{}/'.format(bucket,output_prefix)\n"
   ]
  },
  {
   "cell_type": "code",
   "execution_count": 6,
   "metadata": {},
   "outputs": [],
   "source": [
    "instance_count=1\n",
    "instance_type='ml.m4.xlarge'\n",
    "volume_size_gb=50"
   ]
  },
  {
   "cell_type": "code",
   "execution_count": 7,
   "metadata": {},
   "outputs": [],
   "source": [
    "role=get_execution_role()\n",
    "training_image=get_image_uri(boto3.Session().region_name,'image-classification')"
   ]
  },
  {
   "cell_type": "code",
   "execution_count": 8,
   "metadata": {},
   "outputs": [],
   "source": [
    "train_timeout=360000"
   ]
  },
  {
   "cell_type": "code",
   "execution_count": 13,
   "metadata": {},
   "outputs": [],
   "source": [
    "sagemaker_session=sagemaker.Session()\n",
    "estimator=sagemaker.estimator.Estimator(training_image,\n",
    "                                       role,\n",
    "                                       train_instance_count=instance_count,\n",
    "                                       train_instance_type=instance_type,\n",
    "                                       train_volume_size=volume_size_gb,\n",
    "                                       train_max_run=train_timeout,\n",
    "                                       output_path=output_path,\n",
    "                                       sagemaker_session=sagemaker_session)"
   ]
  },
  {
   "cell_type": "code",
   "execution_count": 14,
   "metadata": {},
   "outputs": [],
   "source": [
    "estimator.set_hyperparameters(num_classes=num_classes,\n",
    "                             num_training_samples=num_training_samples,\n",
    "                             num_layers=num_layers,\n",
    "                             mini_batch_size=mini_batch_size,\n",
    "                             image_shape=image_shape,\n",
    "                             augmentation_type=augmentation_type,\n",
    "                             epochs=epochs,\n",
    "                             learning_rate=learning_rate,\n",
    "                             use_pretrained_model=use_pretrained_model)"
   ]
  },
  {
   "cell_type": "code",
   "execution_count": null,
   "metadata": {},
   "outputs": [],
   "source": []
  }
 ],
 "metadata": {
  "kernelspec": {
   "display_name": "conda_mxnet_p36",
   "language": "python",
   "name": "conda_mxnet_p36"
  },
  "language_info": {
   "codemirror_mode": {
    "name": "ipython",
    "version": 3
   },
   "file_extension": ".py",
   "mimetype": "text/x-python",
   "name": "python",
   "nbconvert_exporter": "python",
   "pygments_lexer": "ipython3",
   "version": "3.6.5"
  }
 },
 "nbformat": 4,
 "nbformat_minor": 4
}
